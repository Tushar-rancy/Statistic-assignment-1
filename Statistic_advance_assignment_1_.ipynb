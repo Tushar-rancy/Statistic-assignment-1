{
  "nbformat": 4,
  "nbformat_minor": 0,
  "metadata": {
    "colab": {
      "provenance": [],
      "authorship_tag": "ABX9TyO5uDffDZhUA6vrl+3KFN21",
      "include_colab_link": true
    },
    "kernelspec": {
      "name": "python3",
      "display_name": "Python 3"
    },
    "language_info": {
      "name": "python"
    }
  },
  "cells": [
    {
      "cell_type": "markdown",
      "metadata": {
        "id": "view-in-github",
        "colab_type": "text"
      },
      "source": [
        "<a href=\"https://colab.research.google.com/github/Tushar-rancy/Statistic-assignment-1/blob/main/Statistic_advance_assignment_1_.ipynb\" target=\"_parent\"><img src=\"https://colab.research.google.com/assets/colab-badge.svg\" alt=\"Open In Colab\"/></a>"
      ]
    },
    {
      "cell_type": "markdown",
      "source": [
        "# ***Theory Questions***"
      ],
      "metadata": {
        "id": "FeDNqW-6lgIH"
      }
    },
    {
      "cell_type": "markdown",
      "source": [
        "1. What is a random variable in probability theory?\n",
        "A random variable is a function that assigns a numerical value to each outcome in a sample space of a random experiment.\n",
        "\n",
        "2. What are the types of random variables?\n",
        "\n",
        "Discrete Random Variable: Takes on countable values.\n",
        "\n",
        "Continuous Random Variable: Takes on an infinite number of values within a range.\n",
        "\n",
        "3. What is the difference between discrete and continuous distributions?\n",
        "\n",
        "Discrete distribution deals with distinct, separate values.\n",
        "\n",
        "Continuous distribution handles an infinite range of values and uses density functions.\n",
        "\n",
        "4. What are probability distribution functions (PDF)?\n",
        "PDFs describe the likelihood of a continuous random variable assuming a particular value.\n",
        "\n",
        "5. How do cumulative distribution functions (CDF) differ from probability distribution functions (PDF)?\n",
        "CDF gives the probability that a variable is less than or equal to a certain value, while PDF gives the relative likelihood of the value at a point.\n",
        "\n",
        "6. What is a discrete uniform distribution?\n",
        "A distribution where all outcomes are equally likely over a finite set (e.g., rolling a fair die).\n",
        "\n",
        "7. What are the key properties of a Bernoulli distribution?\n",
        "\n",
        "Only two outcomes (0 and 1).\n",
        "\n",
        "One trial.\n",
        "\n",
        "Mean = p, Variance = p(1-p)\n",
        "\n",
        "8. What is the binomial distribution, and how is it used in probability?\n",
        "It models the number of successes in a fixed number of independent trials with the same probability of success.\n",
        "\n",
        "9. What is the Poisson distribution and where is it applied?\n",
        "It models the number of events in a fixed interval of time or space when events occur independently at a constant average rate.\n",
        "\n",
        "10. What is a continuous uniform distribution?\n",
        "A distribution in which all outcomes in a range are equally likely, e.g., choosing a random real number between 0 and 1.\n",
        "\n",
        "11. What are the characteristics of a normal distribution?\n",
        "\n",
        "Bell-shaped and symmetric.\n",
        "\n",
        "Mean = median = mode.\n",
        "\n",
        "Described by mean (μ) and standard deviation (σ).\n",
        "\n",
        "12. What is the standard normal distribution, and why is it important?\n",
        "A special case of the normal distribution with mean = 0 and standard deviation = 1; used for Z-score calculations.\n",
        "\n",
        "13. What is the Central Limit Theorem (CLT), and why is it critical in statistics?\n",
        "CLT states that the distribution of sample means approximates a normal distribution as sample size grows, regardless of population shape.\n",
        "\n",
        "14. How does the Central Limit Theorem relate to the normal distribution?\n",
        "It explains that even if data is not normally distributed, the mean of large enough samples will follow a normal distribution.\n",
        "\n",
        "15. What is the application of Z statistics in hypothesis testing?\n",
        "Z-statistics determine how many standard deviations a sample statistic is from the population parameter, helping in decision-making.\n",
        "\n",
        "16. How do you calculate a Z-score, and what does it represent?\n",
        "Z = (X - μ) / σ\n",
        "It shows how far a value is from the mean in terms of standard deviations.\n",
        "\n",
        "17. What are point estimates and interval estimates in statistics?\n",
        "\n",
        "Point estimate: Single value estimate (e.g., sample mean).\n",
        "\n",
        "Interval estimate: Range of values (e.g., confidence interval).\n",
        "\n",
        "18. What is the significance of confidence intervals in statistical analysis?\n",
        "They provide a range where we expect the true population parameter to lie with a specified level of confidence (e.g., 95%).\n",
        "\n",
        "19. What is the relationship between a Z-score and a confidence interval?\n",
        "Z-scores define the bounds of a confidence interval in standard normal distribution (e.g., ±1.96 for 95% CI).\n",
        "\n",
        "20. How are Z-scores used to compare different distributions?\n",
        "Z-scores standardize values from different distributions, enabling direct comparison by removing units and scale.\n",
        "\n",
        "21. What are the assumptions for applying the Central Limit Theorem?\n",
        "\n",
        "Independent observations\n",
        "\n",
        "Identically distributed variables\n",
        "\n",
        "Sample size ≥ 30 (typically sufficient)\n",
        "\n",
        "22. What is the concept of expected value in a probability distribution?\n",
        "It is the average or mean value of a random variable over many repetitions of the experiment.\n",
        "\n",
        "23. How does a probability distribution relate to the expected outcome of a random variable?\n",
        "The expected value is calculated using the probabilities and outcomes defined by the distribution.\n",
        "\n"
      ],
      "metadata": {
        "id": "gZCkcP-fcC9i"
      }
    },
    {
      "cell_type": "markdown",
      "source": [
        "# ***Practical Questions***"
      ],
      "metadata": {
        "id": "h8WlHdWFlUmd"
      }
    },
    {
      "cell_type": "markdown",
      "source": [
        "1. Write a Python program to generate a random variable and display its value"
      ],
      "metadata": {
        "id": "V_zI4R5ulsMP"
      }
    },
    {
      "cell_type": "code",
      "source": [
        "import numpy as np\n",
        "\n",
        "random_value = np.random.randn()  # From standard normal distribution\n",
        "print(\"Random Variable:\", random_value)\n"
      ],
      "metadata": {
        "colab": {
          "base_uri": "https://localhost:8080/"
        },
        "id": "755_A957lxsf",
        "outputId": "45ad01a0-a37f-435a-9ecb-f2614e80d753"
      },
      "execution_count": 1,
      "outputs": [
        {
          "output_type": "stream",
          "name": "stdout",
          "text": [
            "Random Variable: 0.5029750150076424\n"
          ]
        }
      ]
    },
    {
      "cell_type": "markdown",
      "source": [
        "2. Generate a discrete uniform distribution using Python and plot the probability mass function (PMF)"
      ],
      "metadata": {
        "id": "MGx3xov5l3GZ"
      }
    },
    {
      "cell_type": "code",
      "source": [
        "import matplotlib.pyplot as plt\n",
        "\n",
        "values = list(range(1, 7))\n",
        "pmf = [1/6] * 6\n",
        "\n",
        "plt.stem(values, pmf, use_line_collection=True)\n",
        "plt.xlabel(\"Values\")\n",
        "plt.ylabel(\"Probability\")\n",
        "plt.title(\"Discrete Uniform Distribution - PMF\")\n",
        "plt.show()\n"
      ],
      "metadata": {
        "id": "bj2rfY-jl1H4"
      },
      "execution_count": null,
      "outputs": []
    },
    {
      "cell_type": "markdown",
      "source": [
        "3. Write a Python function to calculate the probability distribution function (PDF) of a Bernoulli distribution"
      ],
      "metadata": {
        "id": "5z9gZHRql9av"
      }
    },
    {
      "cell_type": "code",
      "source": [
        "from scipy.stats import bernoulli\n",
        "\n",
        "def bernoulli_pdf(p):\n",
        "    return {\"P(X=0)\": bernoulli.pmf(0, p), \"P(X=1)\": bernoulli.pmf(1, p)}\n",
        "\n",
        "print(bernoulli_pdf(0.4))\n"
      ],
      "metadata": {
        "id": "JM58zYvpmAOs"
      },
      "execution_count": null,
      "outputs": []
    },
    {
      "cell_type": "markdown",
      "source": [
        "4. Write a Python script to simulate a binomial distribution with n=10 and p=0.5, then plot its histogram"
      ],
      "metadata": {
        "id": "Go0y6Bc1mCwQ"
      }
    },
    {
      "cell_type": "code",
      "source": [
        "n, p = 10, 0.5\n",
        "binom_data = np.random.binomial(n, p, 1000)\n",
        "\n",
        "plt.hist(binom_data, bins=range(n+2), align='left', edgecolor='black')\n",
        "plt.title(\"Binomial Distribution (n=10, p=0.5)\")\n",
        "plt.xlabel(\"Successes\")\n",
        "plt.ylabel(\"Frequency\")\n",
        "plt.show()\n"
      ],
      "metadata": {
        "id": "4EyjMVlPmFn5"
      },
      "execution_count": null,
      "outputs": []
    },
    {
      "cell_type": "markdown",
      "source": [
        "5. Create a Poisson distribution and visualize it using Python"
      ],
      "metadata": {
        "id": "adtpPfmxmI4w"
      }
    },
    {
      "cell_type": "code",
      "source": [
        "from scipy.stats import poisson\n",
        "\n",
        "mu = 3\n",
        "x = np.arange(0, 10)\n",
        "pmf = poisson.pmf(x, mu)\n",
        "\n",
        "plt.stem(x, pmf, use_line_collection=True)\n",
        "plt.title(\"Poisson Distribution (λ=3)\")\n",
        "plt.xlabel(\"Events\")\n",
        "plt.ylabel(\"Probability\")\n",
        "plt.show()\n"
      ],
      "metadata": {
        "id": "pfw8IZL_mMIc"
      },
      "execution_count": null,
      "outputs": []
    },
    {
      "cell_type": "markdown",
      "source": [
        "6. Write a Python program to calculate and plot the cumulative distribution function (CDF) of a discrete uniform distribution"
      ],
      "metadata": {
        "id": "r7uHbYMwmOvO"
      }
    },
    {
      "cell_type": "code",
      "source": [
        "from scipy.stats import randint\n",
        "\n",
        "low, high = 1, 7\n",
        "x = np.arange(low, high)\n",
        "cdf = randint.cdf(x, low, high)\n",
        "\n",
        "plt.step(x, cdf, where='post')\n",
        "plt.title(\"CDF of Discrete Uniform Distribution\")\n",
        "plt.xlabel(\"Value\")\n",
        "plt.ylabel(\"Cumulative Probability\")\n",
        "plt.grid(True)\n",
        "plt.show()\n"
      ],
      "metadata": {
        "id": "nE4vaesYmSD9"
      },
      "execution_count": null,
      "outputs": []
    },
    {
      "cell_type": "markdown",
      "source": [
        "7. Generate a continuous uniform distribution using NumPy and visualize it"
      ],
      "metadata": {
        "id": "fzWZseOTmUL0"
      }
    },
    {
      "cell_type": "code",
      "source": [
        "samples = np.random.uniform(0, 10, 1000)\n",
        "\n",
        "plt.hist(samples, bins=30, color='lightblue', edgecolor='black', density=True)\n",
        "plt.title(\"Continuous Uniform Distribution\")\n",
        "plt.xlabel(\"Value\")\n",
        "plt.ylabel(\"Density\")\n",
        "plt.show()\n"
      ],
      "metadata": {
        "id": "3w3mPg0wmWnv"
      },
      "execution_count": null,
      "outputs": []
    },
    {
      "cell_type": "markdown",
      "source": [
        "8. Simulate data from a normal distribution and plot its histogram"
      ],
      "metadata": {
        "id": "j8WyvKcvmZIu"
      }
    },
    {
      "cell_type": "code",
      "source": [
        "# prompt: 8. Simulate data from a normal distribution and plot its histogram\n",
        "\n",
        "# 8. Simulate data from a normal distribution and plot its histogram\n",
        "mu, sigma = 0, 1 # mean and standard deviation\n",
        "normal_data = np.random.normal(mu, sigma, 1000)\n",
        "\n",
        "plt.hist(normal_data, bins=30, density=True, alpha=0.6, color='g', edgecolor='black')\n",
        "plt.title(\"Normal Distribution (μ=0, σ=1)\")\n",
        "plt.xlabel(\"Value\")\n",
        "plt.ylabel(\"Density\")\n",
        "plt.show()"
      ],
      "metadata": {
        "id": "hNzXwGtAmb5M"
      },
      "execution_count": null,
      "outputs": []
    },
    {
      "cell_type": "markdown",
      "source": [
        "9. Write a Python function to calculate Z-scores from a dataset and plot them"
      ],
      "metadata": {
        "id": "62slo-Xzmoy-"
      }
    },
    {
      "cell_type": "code",
      "source": [
        "from scipy.stats import zscore\n",
        "\n",
        "data = np.random.normal(10, 2, size=100)\n",
        "z_scores = zscore(data)\n",
        "\n",
        "plt.plot(z_scores, 'o')\n",
        "plt.axhline(0, color='red', linestyle='--')\n",
        "plt.title(\"Z-Scores of Dataset\")\n",
        "plt.xlabel(\"Index\")\n",
        "plt.ylabel(\"Z-score\")\n",
        "plt.show()\n"
      ],
      "metadata": {
        "id": "RsvqILRgmpeN"
      },
      "execution_count": null,
      "outputs": []
    },
    {
      "cell_type": "markdown",
      "source": [
        "10. Implement the Central Limit Theorem (CLT) using Python for a non-normal distribution"
      ],
      "metadata": {
        "id": "pIt9azHlmrSD"
      }
    },
    {
      "cell_type": "code",
      "source": [
        "non_normal = np.random.exponential(scale=2, size=10000)\n",
        "sample_means = [np.mean(np.random.choice(non_normal, 30)) for _ in range(1000)]\n",
        "\n",
        "plt.hist(sample_means, bins=30, color='lightgreen', edgecolor='black', density=True)\n",
        "plt.title(\"CLT from Exponential Distribution\")\n",
        "plt.xlabel(\"Sample Mean\")\n",
        "plt.ylabel(\"Density\")\n",
        "plt.show()\n"
      ],
      "metadata": {
        "id": "XKsGNphwmtrX"
      },
      "execution_count": null,
      "outputs": []
    }
  ]
}