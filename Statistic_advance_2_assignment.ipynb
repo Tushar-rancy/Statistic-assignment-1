{
  "nbformat": 4,
  "nbformat_minor": 0,
  "metadata": {
    "colab": {
      "provenance": [],
      "authorship_tag": "ABX9TyMhaKNUWgJ3oSRT4wL7FDbx",
      "include_colab_link": true
    },
    "kernelspec": {
      "name": "python3",
      "display_name": "Python 3"
    },
    "language_info": {
      "name": "python"
    }
  },
  "cells": [
    {
      "cell_type": "markdown",
      "metadata": {
        "id": "view-in-github",
        "colab_type": "text"
      },
      "source": [
        "<a href=\"https://colab.research.google.com/github/Tushar-rancy/Statistic-assignment-1/blob/main/Statistic_advance_2_assignment.ipynb\" target=\"_parent\"><img src=\"https://colab.research.google.com/assets/colab-badge.svg\" alt=\"Open In Colab\"/></a>"
      ]
    },
    {
      "cell_type": "markdown",
      "source": [
        "# ***Theory Questions***"
      ],
      "metadata": {
        "id": "w8zhEJsYliK2"
      }
    },
    {
      "cell_type": "markdown",
      "source": [
        "1. What is hypothesis testing in statistics?\n",
        "It is a method to make statistical decisions using experimental data. It helps determine if there is enough evidence to support a specific hypothesis about a population parameter.\n",
        "\n",
        "2. What is the null hypothesis, and how does it differ from the alternative hypothesis?\n",
        "\n",
        "Null hypothesis (H₀): Assumes no effect or difference exists.\n",
        "\n",
        "Alternative hypothesis (H₁): Assumes a significant effect or difference exists.\n",
        "\n",
        "3. What is the significance level in hypothesis testing, and why is it important?\n",
        "The significance level (α) is the probability of rejecting the null hypothesis when it is true. Common values are 0.05 or 0.01. It defines the threshold for statistical significance.\n",
        "\n",
        "4. What does a P-value represent in hypothesis testing?\n",
        "The P-value measures the probability of obtaining test results at least as extreme as the observed results, assuming that the null hypothesis is true.\n",
        "\n",
        "5. How do you interpret the P-value in hypothesis testing?\n",
        "\n",
        "If P ≤ α: Reject H₀ (statistically significant)\n",
        "\n",
        "If P > α: Fail to reject H₀ (not statistically significant)\n",
        "\n",
        "6. What are Type 1 and Type 2 errors in hypothesis testing?\n",
        "\n",
        "Type I Error: Rejecting a true null hypothesis (false positive)\n",
        "\n",
        "Type II Error: Failing to reject a false null hypothesis (false negative)\n",
        "\n",
        "7. What is the difference between a one-tailed and a two-tailed test in hypothesis testing?\n",
        "\n",
        "One-tailed test: Tests for deviation in one direction only\n",
        "\n",
        "Two-tailed test: Tests for deviation in both directions\n",
        "\n",
        "8. What is the Z-test, and when is it used in hypothesis testing?\n",
        "A Z-test is used to determine whether two population means are different when the variances are known and the sample size is large (n ≥ 30).\n",
        "\n",
        "9. How do you calculate the Z-score, and what does it represent in hypothesis testing?\n",
        "𝑍\n",
        "=\n",
        "𝑥\n",
        "ˉ\n",
        "−\n",
        "𝜇\n",
        "𝜎\n",
        "/\n",
        "𝑛\n",
        "Z=\n",
        "σ/\n",
        "n\n",
        "​\n",
        "\n",
        "x\n",
        "ˉ\n",
        " −μ\n",
        "​\n",
        "\n",
        "It indicates how many standard deviations the sample mean is from the population mean.\n",
        "\n",
        "10. What is the T-distribution, and when should it be used instead of the normal distribution?\n",
        "T-distribution is used instead of normal distribution when the sample size is small (n < 30) and/or population standard deviation is unknown.\n",
        "\n",
        "11. What is the difference between a Z-test and a T-test?\n",
        "\n",
        "Z-test: Population variance is known and large sample size\n",
        "\n",
        "T-test: Population variance is unknown and small sample size\n",
        "\n",
        "12. What is the T-test, and how is it used in hypothesis testing?\n",
        "A T-test compares sample means to assess if they come from populations with equal means, used when population variance is unknown.\n",
        "\n",
        "13. What is the relationship between Z-test and T-test in hypothesis testing?\n",
        "Both test hypotheses about means. The T-test approximates the Z-test as sample size increases. For large samples, T ≈ Z.\n",
        "\n",
        "14. What is a confidence interval, and how is it used to interpret statistical results?\n",
        "A confidence interval gives a range of values within which the true population parameter is likely to lie, with a specified confidence level (e.g., 95%).\n",
        "\n",
        "15. What is the margin of error, and how does it affect the confidence interval?\n",
        "The margin of error is the maximum expected difference between the sample estimate and the true population value. Larger margin → wider confidence interval.\n",
        "\n",
        "16. How is Bayes' Theorem used in statistics, and what is its significance?\n",
        "It updates the probability estimate for a hypothesis based on new evidence. It’s crucial for decision-making under uncertainty and probabilistic inference.\n",
        "\n",
        "17. What is the Chi-square distribution, and when is it used?\n",
        "It is used for tests of independence and goodness-of-fit. It deals with the distribution of squared standard normal variables.\n",
        "\n",
        "18. What is the Chi-square goodness of fit test, and how is it applied?\n",
        "It assesses whether observed categorical data matches expected frequencies. It's used to test how well data fit a particular distribution.\n",
        "\n",
        "19. What is the F-distribution, and when is it used in hypothesis testing?\n",
        "The F-distribution compares variances and is used in ANOVA and F-tests. It is skewed and used to test hypotheses about multiple group variances.\n",
        "\n",
        "20. What is an ANOVA test, and what are its assumptions?\n",
        "ANOVA (Analysis of Variance) tests if there are statistically significant differences between group means.\n",
        "Assumptions:\n",
        "\n",
        "Independence of observations\n",
        "\n",
        "Normality\n",
        "\n",
        "Equal variances (homogeneity)\n",
        "\n",
        "21. What are the different types of ANOVA tests?\n",
        "\n",
        "One-way ANOVA: One independent variable\n",
        "\n",
        "Two-way ANOVA: Two independent variables (can include interaction)\n",
        "\n",
        "Repeated measures ANOVA\n",
        "\n",
        "22. What is the F-test, and how does it relate to hypothesis testing?\n",
        "An F-test compares two variances and helps determine whether the variances are significantly different. It's also used in ANOVA to compare group means."
      ],
      "metadata": {
        "id": "y5W_49w1lrGj"
      }
    },
    {
      "cell_type": "markdown",
      "source": [
        "# ***Pratical***"
      ],
      "metadata": {
        "id": "jHiAmRIRl1wW"
      }
    },
    {
      "cell_type": "markdown",
      "source": [
        "1. Write a Python program to perform a Z-test for comparing a sample mean to a known population mean and interpret the results"
      ],
      "metadata": {
        "id": "Cuz3YdMGl63W"
      }
    },
    {
      "cell_type": "code",
      "execution_count": null,
      "metadata": {
        "id": "dxl979nGlgGA"
      },
      "outputs": [],
      "source": [
        "from scipy import stats\n",
        "import numpy as np\n",
        "\n",
        "data = np.random.normal(loc=52, scale=5, size=30)\n",
        "pop_mean = 50\n",
        "sample_mean = np.mean(data)\n",
        "sample_std = np.std(data, ddof=1)\n",
        "n = len(data)\n",
        "\n",
        "z_score = (sample_mean - pop_mean) / (sample_std / np.sqrt(n))\n",
        "p_value = 2 * (1 - stats.norm.cdf(abs(z_score)))\n",
        "\n",
        "print(\"Z-score:\", z_score)\n",
        "print(\"P-value:\", p_value)\n"
      ]
    },
    {
      "cell_type": "markdown",
      "source": [
        "2. Simulate random data to perform hypothesis testing and calculate the corresponding P-value using Python"
      ],
      "metadata": {
        "id": "M8y4V02SmAQU"
      }
    },
    {
      "cell_type": "code",
      "source": [
        "data = np.random.normal(loc=100, scale=10, size=50)\n",
        "t_stat, p_value = stats.ttest_1samp(data, 95)\n",
        "\n",
        "print(\"T-statistic:\", t_stat)\n",
        "print(\"P-value:\", p_value)\n"
      ],
      "metadata": {
        "id": "sJzbVm-mmEjN"
      },
      "execution_count": null,
      "outputs": []
    },
    {
      "cell_type": "markdown",
      "source": [
        "3. Implement a one-sample Z-test using Python to compare the sample mean with the population mean"
      ],
      "metadata": {
        "id": "LD206ecfmHJz"
      }
    },
    {
      "cell_type": "code",
      "source": [
        "sample = np.random.normal(102, 8, 40)\n",
        "population_mean = 100\n",
        "sample_mean = np.mean(sample)\n",
        "sample_std = np.std(sample, ddof=1)\n",
        "\n",
        "z = (sample_mean - population_mean) / (sample_std / np.sqrt(len(sample)))\n",
        "p = 2 * (1 - stats.norm.cdf(abs(z)))\n",
        "\n",
        "print(\"Z-score:\", z)\n",
        "print(\"P-value:\", p)\n"
      ],
      "metadata": {
        "id": "LMlfNLi7mKfm"
      },
      "execution_count": null,
      "outputs": []
    },
    {
      "cell_type": "markdown",
      "source": [
        "4. Perform a two-tailed Z-test using Python and visualize the decision region on a plot"
      ],
      "metadata": {
        "id": "xkaD2E7JmNPQ"
      }
    },
    {
      "cell_type": "code",
      "source": [
        "import matplotlib.pyplot as plt\n",
        "\n",
        "z_value = 2.1\n",
        "x = np.linspace(-4, 4, 1000)\n",
        "y = stats.norm.pdf(x)\n",
        "\n",
        "plt.plot(x, y)\n",
        "plt.fill_between(x, y, where=(x < -1.96) | (x > 1.96), color='red', alpha=0.3)\n",
        "plt.axvline(z_value, color='blue', linestyle='--')\n",
        "plt.title(\"Two-tailed Z-test Decision Region\")\n",
        "plt.xlabel(\"Z\")\n",
        "plt.ylabel(\"Probability Density\")\n",
        "plt.show()\n"
      ],
      "metadata": {
        "id": "F8B8XglEmQRg"
      },
      "execution_count": null,
      "outputs": []
    },
    {
      "cell_type": "markdown",
      "source": [
        "5. Create a Python function that calculates and visualizes Type 1 and Type 2 errors during hypothesis testing"
      ],
      "metadata": {
        "id": "EVQQBWPTmT70"
      }
    },
    {
      "cell_type": "code",
      "source": [
        "def visualize_errors(mu0, mu1, sigma, n, alpha=0.05):\n",
        "    z_critical = stats.norm.ppf(1 - alpha/2)\n",
        "    x = np.linspace(mu0 - 4*sigma, mu1 + 4*sigma, 1000)\n",
        "    se = sigma / np.sqrt(n)\n",
        "\n",
        "    y0 = stats.norm.pdf(x, mu0, se)\n",
        "    y1 = stats.norm.pdf(x, mu1, se)\n",
        "\n",
        "    plt.plot(x, y0, label=\"H0: Mean = μ0\")\n",
        "    plt.plot(x, y1, label=\"H1: Mean = μ1\")\n",
        "    plt.axvline(mu0 + z_critical * se, color='red', linestyle='--', label=\"Type I Error boundary\")\n",
        "    plt.axvline(mu0 - z_critical * se, color='red', linestyle='--')\n",
        "    plt.fill_between(x, y1, where=(x < mu0 - z_critical * se) | (x > mu0 + z_critical * se), color='green', alpha=0.3, label=\"Type II Error\")\n",
        "\n",
        "    plt.legend()\n",
        "    plt.title(\"Type I and Type II Errors\")\n",
        "    plt.show()\n",
        "\n",
        "visualize_errors(mu0=100, mu1=105, sigma=15, n=30)\n"
      ],
      "metadata": {
        "id": "Hk8-VuZ7mXrz"
      },
      "execution_count": null,
      "outputs": []
    },
    {
      "cell_type": "markdown",
      "source": [
        "6. Write a Python program to perform an independent T-test and interpret the results"
      ],
      "metadata": {
        "id": "krM_IvKvmcFf"
      }
    },
    {
      "cell_type": "code",
      "source": [
        "group1 = np.random.normal(50, 5, 30)\n",
        "group2 = np.random.normal(53, 5, 30)\n",
        "\n",
        "t_stat, p_val = stats.ttest_ind(group1, group2)\n",
        "\n",
        "print(\"T-statistic:\", t_stat)\n",
        "print(\"P-value:\", p_val)\n"
      ],
      "metadata": {
        "id": "GDx5A-5XmfPg"
      },
      "execution_count": null,
      "outputs": []
    },
    {
      "cell_type": "markdown",
      "source": [
        "7. Perform a paired sample T-test using Python and visualize the comparison results"
      ],
      "metadata": {
        "id": "pn_hJztmmhnk"
      }
    },
    {
      "cell_type": "code",
      "source": [
        "before = np.random.normal(100, 10, 25)\n",
        "after = before + np.random.normal(2, 5, 25)\n",
        "\n",
        "t_stat, p_val = stats.ttest_rel(before, after)\n",
        "\n",
        "plt.plot(before, label='Before')\n",
        "plt.plot(after, label='After')\n",
        "plt.legend()\n",
        "plt.title(\"Paired Sample Data\")\n",
        "plt.show()\n",
        "\n",
        "print(\"Paired T-statistic:\", t_stat)\n",
        "print(\"P-value:\", p_val)\n"
      ],
      "metadata": {
        "id": "uwbin8_1mkYF"
      },
      "execution_count": null,
      "outputs": []
    },
    {
      "cell_type": "markdown",
      "source": [
        "8. Simulate data and perform both Z-test and T-test, then compare the results using Python"
      ],
      "metadata": {
        "id": "AqWwOvoZmm1k"
      }
    },
    {
      "cell_type": "code",
      "source": [
        "sample = np.random.normal(50, 5, 20)\n",
        "pop_mean = 52\n",
        "\n",
        "# T-test\n",
        "t_stat, t_p = stats.ttest_1samp(sample, pop_mean)\n",
        "\n",
        "# Z-test\n",
        "sample_mean = np.mean(sample)\n",
        "sample_std = np.std(sample, ddof=1)\n",
        "z_score = (sample_mean - pop_mean) / (sample_std / np.sqrt(len(sample)))\n",
        "z_p = 2 * (1 - stats.norm.cdf(abs(z_score)))\n",
        "\n",
        "print(\"T-test: stat =\", t_stat, \", p =\", t_p)\n",
        "print(\"Z-test: stat =\", z_score, \", p =\", z_p)\n"
      ],
      "metadata": {
        "id": "K4rLazoYmqiO"
      },
      "execution_count": null,
      "outputs": []
    },
    {
      "cell_type": "markdown",
      "source": [
        "9. Write a Python function to calculate the confidence interval for a sample mean and explain its significance"
      ],
      "metadata": {
        "id": "Oz7MxmKDmsj3"
      }
    },
    {
      "cell_type": "code",
      "source": [
        "def confidence_interval(data, confidence=0.95):\n",
        "    n = len(data)\n",
        "    mean = np.mean(data)\n",
        "    sem = stats.sem(data)\n",
        "    margin = stats.t.ppf((1 + confidence) / 2., n-1) * sem\n",
        "    return mean - margin, mean + margin\n",
        "\n",
        "sample_data = np.random.normal(75, 10, 30)\n",
        "ci = confidence_interval(sample_data)\n",
        "print(\"Confidence Interval (95%):\", ci)\n"
      ],
      "metadata": {
        "id": "oOcD4QgomvRh"
      },
      "execution_count": null,
      "outputs": []
    },
    {
      "cell_type": "markdown",
      "source": [
        "10. Write a Python program to calculate the margin of error for a given confidence level using sample data"
      ],
      "metadata": {
        "id": "bovmQ3B_mxg8"
      }
    },
    {
      "cell_type": "code",
      "source": [
        "import numpy as np\n",
        "from scipy import stats\n",
        "\n",
        "data = np.random.normal(100, 15, 50)\n",
        "confidence = 0.95\n",
        "n = len(data)\n",
        "sem = stats.sem(data)\n",
        "margin_error = stats.t.ppf((1 + confidence) / 2., n-1) * sem\n",
        "\n",
        "print(\"Margin of Error:\", margin_error)\n"
      ],
      "metadata": {
        "id": "8j-Rpoc2m7m2"
      },
      "execution_count": null,
      "outputs": []
    },
    {
      "cell_type": "markdown",
      "source": [
        "11. Implement a Bayesian inference method using Bayes' Theorem in Python and explain the process"
      ],
      "metadata": {
        "id": "Xs5S-Yngm92T"
      }
    },
    {
      "cell_type": "code",
      "source": [
        "# Given: P(A) = 0.3, P(B|A) = 0.8, P(B|¬A) = 0.2\n",
        "\n",
        "p_A = 0.3\n",
        "p_B_given_A = 0.8\n",
        "p_B_given_not_A = 0.2\n",
        "p_not_A = 1 - p_A\n",
        "\n",
        "# Bayes' Theorem: P(A|B) = (P(B|A) * P(A)) / P(B)\n",
        "p_B = p_B_given_A * p_A + p_B_given_not_A * p_not_A\n",
        "p_A_given_B = (p_B_given_A * p_A) / p_B\n",
        "\n",
        "print(\"P(A|B):\", p_A_given_B)\n"
      ],
      "metadata": {
        "id": "r7cSk-qInAio"
      },
      "execution_count": null,
      "outputs": []
    },
    {
      "cell_type": "markdown",
      "source": [
        "12. Perform a Chi-square test for independence between two categorical variables in Python"
      ],
      "metadata": {
        "id": "MKspr3YknC3S"
      }
    },
    {
      "cell_type": "code",
      "source": [
        "import pandas as pd\n",
        "from scipy.stats import chi2_contingency\n",
        "\n",
        "# Example contingency table\n",
        "data = [[30, 10], [20, 40]]\n",
        "chi2, p, dof, expected = chi2_contingency(data)\n",
        "\n",
        "print(\"Chi-square Statistic:\", chi2)\n",
        "print(\"P-value:\", p)\n"
      ],
      "metadata": {
        "id": "ZhuhSLUsnFoD"
      },
      "execution_count": null,
      "outputs": []
    },
    {
      "cell_type": "markdown",
      "source": [
        "13. Write a Python program to calculate the expected frequencies for a Chi-square test based on observed data"
      ],
      "metadata": {
        "id": "JLAnHzvYnIEf"
      }
    },
    {
      "cell_type": "code",
      "source": [
        "observed = np.array([[25, 15], [10, 50]])\n",
        "chi2, p, dof, expected = stats.chi2_contingency(observed)\n",
        "\n",
        "print(\"Expected Frequencies:\\n\", expected)\n"
      ],
      "metadata": {
        "id": "zNg8c4F2nKZ8"
      },
      "execution_count": null,
      "outputs": []
    },
    {
      "cell_type": "markdown",
      "source": [
        "14. Perform a goodness-of-fit test using Python to compare the observed data to an expected distribution"
      ],
      "metadata": {
        "id": "_F0o8XnpnMIV"
      }
    },
    {
      "cell_type": "code",
      "source": [
        "observed = [18, 22, 20, 30, 10]\n",
        "expected = [20, 20, 20, 20, 20]\n",
        "\n",
        "chi2_stat, p = stats.chisquare(f_obs=observed, f_exp=expected)\n",
        "print(\"Chi-square:\", chi2_stat)\n",
        "print(\"P-value:\", p)\n"
      ],
      "metadata": {
        "id": "QdDDTZJ9nO6q"
      },
      "execution_count": null,
      "outputs": []
    },
    {
      "cell_type": "markdown",
      "source": [
        "15. Create a Python script to simulate and visualize the Chi-square distribution and discuss its characteristics"
      ],
      "metadata": {
        "id": "B47cZEVTnR12"
      }
    },
    {
      "cell_type": "code",
      "source": [
        "import matplotlib.pyplot as plt\n",
        "\n",
        "df = 4\n",
        "x = np.linspace(0, 20, 500)\n",
        "y = stats.chi2.pdf(x, df)\n",
        "\n",
        "plt.plot(x, y, label=f\"Chi-square df={df}\")\n",
        "plt.title(\"Chi-square Distribution\")\n",
        "plt.xlabel(\"x\")\n",
        "plt.ylabel(\"Density\")\n",
        "plt.legend()\n",
        "plt.grid(True)\n",
        "plt.show()\n"
      ],
      "metadata": {
        "id": "ijJNVorinUUY"
      },
      "execution_count": null,
      "outputs": []
    },
    {
      "cell_type": "markdown",
      "source": [
        "16. Implement an F-test using Python to compare the variances of two random samples"
      ],
      "metadata": {
        "id": "yOmr6jrgnWkn"
      }
    },
    {
      "cell_type": "code",
      "source": [
        "sample1 = np.random.normal(10, 3, 30)\n",
        "sample2 = np.random.normal(10, 5, 30)\n",
        "\n",
        "f_stat = np.var(sample1, ddof=1) / np.var(sample2, ddof=1)\n",
        "df1, df2 = len(sample1) - 1, len(sample2) - 1\n",
        "p_value = 1 - stats.f.cdf(f_stat, df1, df2)\n",
        "\n",
        "print(\"F-statistic:\", f_stat)\n",
        "print(\"P-value:\", p_value)\n"
      ],
      "metadata": {
        "id": "GOcFTOcpnZtm"
      },
      "execution_count": null,
      "outputs": []
    },
    {
      "cell_type": "markdown",
      "source": [
        "17. Write a Python program to perform an ANOVA test to compare means between multiple groups and interpret the results"
      ],
      "metadata": {
        "id": "ZpJcDK88nbta"
      }
    },
    {
      "cell_type": "code",
      "source": [
        "group1 = np.random.normal(70, 10, 20)\n",
        "group2 = np.random.normal(75, 10, 20)\n",
        "group3 = np.random.normal(80, 10, 20)\n",
        "\n",
        "f_stat, p_val = stats.f_oneway(group1, group2, group3)\n",
        "\n",
        "print(\"F-statistic:\", f_stat)\n",
        "print(\"P-value:\", p_val)\n"
      ],
      "metadata": {
        "id": "BTUyfOU3nedJ"
      },
      "execution_count": null,
      "outputs": []
    },
    {
      "cell_type": "markdown",
      "source": [
        "18. Perform a one-way ANOVA test using Python to compare the means of different groups and plot the results"
      ],
      "metadata": {
        "id": "9ITrLuBOng9S"
      }
    },
    {
      "cell_type": "code",
      "source": [
        "import seaborn as sns\n",
        "\n",
        "data = [group1, group2, group3]\n",
        "plt.boxplot(data, labels=[\"Group 1\", \"Group 2\", \"Group 3\"])\n",
        "plt.title(\"One-way ANOVA Group Comparison\")\n",
        "plt.ylabel(\"Values\")\n",
        "plt.show()\n"
      ],
      "metadata": {
        "id": "dnP1LCjYnjWE"
      },
      "execution_count": null,
      "outputs": []
    },
    {
      "cell_type": "markdown",
      "source": [
        "19. Write a Python function to check the assumptions (normality, independence, and equal variance) for ANOVA"
      ],
      "metadata": {
        "id": "vFpwmd9qnled"
      }
    },
    {
      "cell_type": "code",
      "source": [
        "from scipy.stats import shapiro, levene\n",
        "\n",
        "def check_anova_assumptions(*groups):\n",
        "    for i, g in enumerate(groups):\n",
        "        stat, p = shapiro(g)\n",
        "        print(f\"Group {i+1} Normality p-value:\", p)\n",
        "    stat, p = levene(*groups)\n",
        "    print(\"Levene's Test for Equal Variance p-value:\", p)\n",
        "\n",
        "check_anova_assumptions(group1, group2, group3)\n"
      ],
      "metadata": {
        "id": "SwE2OTZ0noDS"
      },
      "execution_count": null,
      "outputs": []
    },
    {
      "cell_type": "markdown",
      "source": [
        "20. Perform a two-way ANOVA test using Python to study the interaction between two factors and visualize the results"
      ],
      "metadata": {
        "id": "jl58LvTbnraU"
      }
    },
    {
      "cell_type": "code",
      "source": [
        "import pandas as pd\n",
        "import statsmodels.api as sm\n",
        "from statsmodels.formula.api import ols\n",
        "\n",
        "# Sample dataset\n",
        "df = pd.DataFrame({\n",
        "    'Score': np.random.rand(30) * 100,\n",
        "    'Gender': np.repeat(['M', 'F'], 15),\n",
        "    'Method': ['A']*10 + ['B']*10 + ['C']*10\n",
        "})\n",
        "\n",
        "model = ols('Score ~ C(Gender) + C(Method) + C(Gender):C(Method)', data=df).fit()\n",
        "anova_table = sm.stats.anova_lm(model, typ=2)\n",
        "\n",
        "print(anova_table)\n"
      ],
      "metadata": {
        "id": "sXR3ur20nuDi"
      },
      "execution_count": null,
      "outputs": []
    },
    {
      "cell_type": "markdown",
      "source": [
        "21. Write a Python program to visualize the F-distribution and discuss its use in hypothesis testing"
      ],
      "metadata": {
        "id": "mcrmvSimnwrc"
      }
    },
    {
      "cell_type": "code",
      "source": [
        "dof1, dof2 = 5, 20\n",
        "x = np.linspace(0, 5, 1000)\n",
        "y = stats.f.pdf(x, dof1, dof2)\n",
        "\n",
        "plt.plot(x, y)\n",
        "plt.title(\"F-distribution\")\n",
        "plt.xlabel(\"F value\")\n",
        "plt.ylabel(\"Density\")\n",
        "plt.grid(True)\n",
        "plt.show()\n"
      ],
      "metadata": {
        "id": "ONALUlrlnziN"
      },
      "execution_count": null,
      "outputs": []
    },
    {
      "cell_type": "markdown",
      "source": [
        "22. Perform a one-way ANOVA test in Python and visualize the results with boxplots to compare group means"
      ],
      "metadata": {
        "id": "cIw_tnLTn2lL"
      }
    },
    {
      "cell_type": "code",
      "source": [
        "sns.boxplot(data=[group1, group2, group3])\n",
        "plt.title(\"One-way ANOVA Boxplot Comparison\")\n",
        "plt.xticks([0, 1, 2], [\"Group 1\", \"Group 2\", \"Group 3\"])\n",
        "plt.ylabel(\"Scores\")\n",
        "plt.show()\n"
      ],
      "metadata": {
        "id": "ljj5ScD7n5QP"
      },
      "execution_count": null,
      "outputs": []
    },
    {
      "cell_type": "markdown",
      "source": [
        "23. Simulate random data from a normal distribution, then perform hypothesis testing to evaluate the means"
      ],
      "metadata": {
        "id": "vWuJU-Njn7Vx"
      }
    },
    {
      "cell_type": "code",
      "source": [
        "data = np.random.normal(50, 5, 100)\n",
        "t_stat, p_val = stats.ttest_1samp(data, 52)\n",
        "\n",
        "print(\"T-statistic:\", t_stat)\n",
        "print(\"P-value:\", p_val)\n"
      ],
      "metadata": {
        "id": "067PBmvmn9-O"
      },
      "execution_count": null,
      "outputs": []
    },
    {
      "cell_type": "markdown",
      "source": [
        "24. Perform a hypothesis test for population variance using a Chi-square distribution and interpret the results"
      ],
      "metadata": {
        "id": "wRWhNqqIn_yE"
      }
    },
    {
      "cell_type": "code",
      "source": [
        "sample = np.random.normal(10, 2, 30)\n",
        "sample_var = np.var(sample, ddof=1)\n",
        "hypothesized_var = 4\n",
        "\n",
        "chi2_stat = (len(sample) - 1) * sample_var / hypothesized_var\n",
        "p_value = 1 - stats.chi2.cdf(chi2_stat, df=len(sample)-1)\n",
        "\n",
        "print(\"Chi-square Statistic:\", chi2_stat)\n",
        "print(\"P-value:\", p_value)\n"
      ],
      "metadata": {
        "id": "jrEswO6XoCUB"
      },
      "execution_count": null,
      "outputs": []
    },
    {
      "cell_type": "markdown",
      "source": [
        "25. Write a Python script to perform a Z-test for comparing proportions between two datasets or groups\n"
      ],
      "metadata": {
        "id": "tp1sTOlwoEsC"
      }
    },
    {
      "cell_type": "code",
      "source": [
        "success1, n1 = 80, 100\n",
        "success2, n2 = 70, 100\n",
        "\n",
        "p1 = success1 / n1\n",
        "p2 = success2 / n2\n",
        "p_pool = (success1 + success2) / (n1 + n2)\n",
        "\n",
        "z = (p1 - p2) / np.sqrt(p_pool * (1 - p_pool) * (1/n1 + 1/n2))\n",
        "p_val = 2 * (1 - stats.norm.cdf(abs(z)))\n",
        "\n",
        "print(\"Z-statistic:\", z)\n",
        "print(\"P-value:\", p_val)\n"
      ],
      "metadata": {
        "id": "KO5PM4upoET0"
      },
      "execution_count": null,
      "outputs": []
    },
    {
      "cell_type": "markdown",
      "source": [
        "26. Implement an F-test for comparing the variances of two datasets, then interpret and visualize the results"
      ],
      "metadata": {
        "id": "GS37xthnoOLa"
      }
    },
    {
      "cell_type": "code",
      "source": [
        "var1 = np.var(sample1, ddof=1)\n",
        "var2 = np.var(sample2, ddof=1)\n",
        "\n",
        "f_stat = var1 / var2\n",
        "p_val = 1 - stats.f.cdf(f_stat, len(sample1)-1, len(sample2)-1)\n",
        "\n",
        "print(\"F-statistic:\", f_stat)\n",
        "print(\"P-value:\", p_val)\n"
      ],
      "metadata": {
        "id": "FyoFnYO0oRSz"
      },
      "execution_count": null,
      "outputs": []
    },
    {
      "cell_type": "markdown",
      "source": [
        "27. Perform a Chi-square test for goodness of fit with simulated data and analyze the results"
      ],
      "metadata": {
        "id": "Sxx0JI8aoUUx"
      }
    },
    {
      "cell_type": "code",
      "source": [
        "observed = np.array([18, 20, 22, 15, 25])\n",
        "expected = np.array([20, 20, 20, 20, 20])\n",
        "\n",
        "chi2_stat, p_val = stats.chisquare(f_obs=observed, f_exp=expected)\n",
        "\n",
        "print(\"Chi-square Statistic:\", chi2_stat)\n",
        "print(\"P-value:\", p_val)\n"
      ],
      "metadata": {
        "id": "AjtwBoJioXB5"
      },
      "execution_count": null,
      "outputs": []
    }
  ]
}